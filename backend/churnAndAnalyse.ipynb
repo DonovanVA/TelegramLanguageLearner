{
 "cells": [
  {
   "cell_type": "markdown",
   "metadata": {},
   "source": [
    "Step 1: Import the necessary libraries"
   ]
  },
  {
   "cell_type": "code",
   "execution_count": null,
   "metadata": {},
   "outputs": [],
   "source": [
    "##https://docs.telethon.dev/en/stable/basic/installation.html\n",
    "import sys\n",
    "import os\n",
    "SCRIPT_DIR = os.path.dirname(os.path.abspath(__file__))\n",
    "sys.path.append(os.path.dirname(SCRIPT_DIR))\n",
    "from telethon import TelegramClient\n",
    "from dotenv import load_dotenv\n",
    "import pandas as pd"
   ]
  },
  {
   "cell_type": "markdown",
   "metadata": {},
   "source": [
    "Step 2: Authenticate and login via telegram"
   ]
  },
  {
   "cell_type": "code",
   "execution_count": null,
   "metadata": {},
   "outputs": [],
   "source": [
    "# help me import the secrets from .env \n",
    "# keys are APP_ID and APP_API_HASH\n",
    "\n",
    "load_dotenv()\n",
    "api_id = os.getenv('API_ID')\n",
    "api_hash = os.getenv('API_HASH')\n",
    "username = os.getenv('USERNAME')\n",
    "## disconnect any existing sessions\n",
    "if f\"{username}.session\" in os.listdir():\n",
    "    os.remove(f\"{username}.session\")\n",
    "client = TelegramClient(username, api_id, api_hash)\n",
    "await client.start()\n",
    "client.connect()"
   ]
  },
  {
   "cell_type": "markdown",
   "metadata": {},
   "source": [
    "Step 3: Functions"
   ]
  },
  {
   "cell_type": "code",
   "execution_count": null,
   "metadata": {},
   "outputs": [],
   "source": [
    "\n",
    "async def getProfile(json_file_path):\n",
    "    # Getting information about yourself\n",
    "    me = await client.get_me()\n",
    "    user_info = {\n",
    "    'id': me.id,\n",
    "    'is_self': me.is_self,\n",
    "    'contact': me.contact,\n",
    "    'username': me.username,\n",
    "    'mutual_contact': me.mutual_contact,\n",
    "    'deleted': me.deleted,\n",
    "    'bot': me.bot,\n",
    "    'bot_chat_history': me.bot_chat_history,\n",
    "    'bot_nochats': me.bot_nochats,\n",
    "    'verified': me.verified,\n",
    "    'restricted': me.restricted,\n",
    "    'min': me.min,\n",
    "    'bot_inline_geo': me.bot_inline_geo,\n",
    "    'support': me.support,\n",
    "    'scam': me.scam,\n",
    "    'apply_min_photo':me.apply_min_photo,\n",
    "    'fake': me.fake,\n",
    "    'bot_attach_menu':me.bot_attach_menu,\n",
    "    'premium':me.premium,\n",
    "    'attach_menu_enabled':me.attach_menu_enabled,\n",
    "    'bot_can_edit':me.bot_can_edit,\n",
    "    'close_friend':me.close_friend,\n",
    "    'stories_hidden':me.stories_hidden,\n",
    "    'stories_unavailable': me.stories_unavailable,\n",
    "    'access_hash': me.access_hash,\n",
    "    'first_name': me.first_name,\n",
    "    'last_name':me.last_name,\n",
    "    'username': me.username,\n",
    "    'phone':me.phone,\n",
    "    # Add other fields you want to save here\n",
    "}"
   ]
  },
  {
   "cell_type": "code",
   "execution_count": null,
   "metadata": {},
   "outputs": [],
   "source": [
    "async def getMessages(df,me, users: [str], relationship: str):\n",
    "   \n",
    "    for user in users:\n",
    "        async for message in client.iter_messages(user):\n",
    "            # Append the message to the DataFrame.\n",
    "            df = df.append({'id': message.id,'user_id':me.id, 'sender_id': message.sender_id, 'receiver_id': message.peer_id.user_id, 'receiver_name': user, 'text': message.text,'relationship':relationship, 'type': type,'date':message.date}, ignore_index=True)\n",
    "\n",
    "            print(message)\n",
    "\n",
    "\n",
    "    return df\n",
    "    "
   ]
  },
  {
   "cell_type": "markdown",
   "metadata": {},
   "source": [
    "Step 4. Extract data"
   ]
  },
  {
   "cell_type": "code",
   "execution_count": null,
   "metadata": {},
   "outputs": [],
   "source": [
    "arrayOfFriends=[] # array of friends here: eg ['FriendA','FriendB',...], array cannot be empty\n",
    "#init dataframe\n",
    "df = pd.DataFrame(columns=['id','user_id', 'sender_id', 'receiver_id', 'receiver_name', 'text','relationship','type','date'])\n",
    "## extract messages\n",
    "me = await client.get_me()\n",
    "df = await getMessages(df,me,arrayOfFriends,'FRIEND')"
   ]
  },
  {
   "cell_type": "code",
   "execution_count": null,
   "metadata": {},
   "outputs": [],
   "source": [
    "df.to_csv(\"datasets/raw_messages.csv\", sep=\",\")\n"
   ]
  },
  {
   "cell_type": "markdown",
   "metadata": {},
   "source": [
    "Step 5. Exploration of individual text messages"
   ]
  },
  {
   "cell_type": "markdown",
   "metadata": {},
   "source": [
    "# Get the most frequent occuring text by me"
   ]
  },
  {
   "cell_type": "code",
   "execution_count": null,
   "metadata": {},
   "outputs": [],
   "source": [
    "me = await client.get_me()\n",
    "df = pd.DataFrame(columns=['id','user_id', 'sender_id', 'receiver_id', 'receiver_name', 'text','relationship','type','date'])\n",
    "df = await getMessages(df,me,[],'FRIEND') ## your friend telehandle here, array cannot be empty"
   ]
  },
  {
   "cell_type": "code",
   "execution_count": null,
   "metadata": {},
   "outputs": [],
   "source": [
    "import matplotlib.pyplot as plt\n",
    "\n",
    "# Assuming you already have your DataFrame df\n",
    "\n",
    "me_df = df[(df['sender_id'] == me.id)& (df['text']!='')]\n",
    "me_text_occurrences = me_df['text'].value_counts()\n",
    "me_text_occurrences_filtered = me_text_occurrences[me_text_occurrences > 1]\n",
    "\n",
    "# Plot a bar plot\n",
    "plt.figure(figsize=(20, 6))\n",
    "me_text_occurrences_filtered.plot(kind='bar')\n",
    "plt.title('Text Occurrences Bar Plot (Counts > 1)')\n",
    "plt.xlabel('Text')\n",
    "plt.ylabel('Occurrences')\n",
    "plt.show()\n",
    "print(\"top 10 most popular texts:\")\n",
    "\n",
    "# Count the occurrences of each text\n",
    "\n",
    "\n",
    "# Get the top 10 most frequent texts\n",
    "top_10_texts = me_text_occurrences.head(10)\n",
    "\n",
    "print(top_10_texts)"
   ]
  },
  {
   "cell_type": "markdown",
   "metadata": {},
   "source": [
    "# Get the most frequent occuring text by reciever"
   ]
  },
  {
   "cell_type": "code",
   "execution_count": null,
   "metadata": {},
   "outputs": [],
   "source": [
    "\n",
    "# Assuming you already have your DataFrame df\n",
    "rec_df = df[(df['sender_id'] != me.id)& (df['text']!='')]\n",
    "rec_text_occurrences = rec_df['text'].value_counts()\n",
    "rec_text_occurrences_filtered = rec_text_occurrences[rec_text_occurrences > 1]\n",
    "\n",
    "# Plot a bar plot\n",
    "plt.figure(figsize=(20, 6))\n",
    "rec_text_occurrences_filtered.plot(kind='bar')\n",
    "plt.title('Text Occurrences Bar Plot (Counts > 1)')\n",
    "plt.xlabel('Text')\n",
    "plt.ylabel('Occurrences')\n",
    "plt.show()\n",
    "print(\"top 10 most popular texts:\")\n",
    "\n",
    "# Count the occurrences of each text\n",
    "\n",
    "\n",
    "# Get the top 10 most frequent texts\n",
    "top_10_texts = rec_text_occurrences.head(10)\n",
    "\n",
    "print(top_10_texts)"
   ]
  }
 ],
 "metadata": {
  "kernelspec": {
   "display_name": "base",
   "language": "python",
   "name": "python3"
  },
  "language_info": {
   "codemirror_mode": {
    "name": "ipython",
    "version": 3
   },
   "file_extension": ".py",
   "mimetype": "text/x-python",
   "name": "python",
   "nbconvert_exporter": "python",
   "pygments_lexer": "ipython3",
   "version": "3.9.7"
  },
  "orig_nbformat": 4
 },
 "nbformat": 4,
 "nbformat_minor": 2
}
