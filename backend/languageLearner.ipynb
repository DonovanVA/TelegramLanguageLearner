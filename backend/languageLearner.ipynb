{
 "cells": [
  {
   "cell_type": "markdown",
   "metadata": {},
   "source": [
    "Step 1: import libraries"
   ]
  },
  {
   "cell_type": "code",
   "execution_count": null,
   "metadata": {},
   "outputs": [],
   "source": [
    "\n",
    "import pandas as pd\n",
    "from collections import Counter\n",
    "import nltk\n",
    "from nltk.corpus import words as nltk_words\n",
    "from googletrans import Translator\n",
    "from lib.pandas_database_functions import queryCSV,createReplaceCSV,jsonToDict # Import the specific function you need\n",
    "from lib.nlp import translate_word,translate_words\n",
    "nltk.download('words')"
   ]
  },
  {
   "cell_type": "markdown",
   "metadata": {},
   "source": [
    "Step 2: import and clean dataset"
   ]
  },
  {
   "cell_type": "code",
   "execution_count": null,
   "metadata": {},
   "outputs": [],
   "source": [
    "uncleaned_df = queryCSV(\"datasets/raw_messages.csv\")\n",
    "print(uncleaned_df)\n",
    "cleaned_df = uncleaned_df.dropna()\n",
    "uncleaned_df.reset_index(drop=True,inplace=True)"
   ]
  },
  {
   "cell_type": "markdown",
   "metadata": {},
   "source": [
    "Step 3: extract all words from convo, A word is defined as\n",
    "1. a word is a space between letters and ending before the next space or end of line\n",
    "2. belongs to a the english dictionary (nltk corpus) \n",
    "A corpus is a collection of machine-readable authentic texts,\n",
    "\n",
    "caution: the second step will take a longer time to complete, you do not have to run this step again unless you have do not have a nlp_processed.csv file"
   ]
  },
  {
   "cell_type": "code",
   "execution_count": null,
   "metadata": {},
   "outputs": [],
   "source": [
    "def extractWordsFromText(arr,cleaned_df):\n",
    "    user_words_df= cleaned_df[cleaned_df['user_id']==cleaned_df['sender_id']]\n",
    "    for words in user_words_df['text']:\n",
    "        res = words.split()\n",
    "        for word in res:\n",
    "            arr.append(word)\n",
    "def is_english_word(word):\n",
    "    if set(word.lower()) <= set('ha'):\n",
    "        return False\n",
    "    return word.lower() in set(nltk_words.words())\n",
    "\n",
    "def extractWordsIntoDF(array):\n",
    "    lowercase_words = [word.lower() for word in array]\n",
    "    word_count = dict(Counter(lowercase_words))\n",
    "    df = pd.DataFrame(list(word_count.items()), columns=['Word', 'Count'])\n",
    "    df['isWord'] = df['Word'].apply(lambda x: is_english_word(x))\n",
    "    df = df.sort_values(by='Count', ascending=False)\n",
    "    return df\n"
   ]
  },
  {
   "cell_type": "markdown",
   "metadata": {},
   "source": []
  },
  {
   "cell_type": "code",
   "execution_count": null,
   "metadata": {},
   "outputs": [],
   "source": [
    "\n",
    "words_arr=[]\n",
    "extractWordsFromText(words_arr,cleaned_df)\n",
    "words_df= extractWordsIntoDF(words_arr)\n",
    "print(words_df)\n",
    "createReplaceCSV(words_df,\"datasets/words.csv\")"
   ]
  },
  {
   "cell_type": "markdown",
   "metadata": {},
   "source": [
    "Step 4: convert to the appropriate text of another language and pronunciation (sound via url)"
   ]
  },
  {
   "cell_type": "code",
   "execution_count": null,
   "metadata": {},
   "outputs": [],
   "source": [
    "translator = Translator()\n",
    "new_words_df=queryCSV(\"datasets/words.csv\")\n",
    "language_dict = jsonToDict(\"translator_registry/languages.json\")\n",
    "new_words_df = new_words_df[new_words_df['isWord'] == True]\n",
    "new_words_df.reset_index(drop=True,inplace=True)\n",
    "## remove the rows with empty \n",
    "truncated_words_df = new_words_df.head(50)\n",
    "# Create a copy of the DataFrame\n",
    "truncated_words_df = truncated_words_df.copy()\n",
    "\n",
    "# Apply translation using .loc to avoid SettingWithCopyWarning\n",
    "lang_code ='ko'\n",
    "\n",
    "translations = truncated_words_df['Word'].apply(\n",
    "    lambda x: translate_word(x, language_code=lang_code, translator=translator)\n",
    ")\n",
    "# Create separate columns for translation and pronunciation\n",
    "truncated_words_df[['Translation', 'Pronunciation']] = pd.DataFrame(translations.tolist(), index=truncated_words_df.index)\n",
    "print(truncated_words_df)\n",
    "truncated_words_df['language_code'] = lang_code\n",
    "truncated_words_df['language'] = truncated_words_df['language_code'].apply(lambda x: language_dict.get(x, 'Unknown'))\n",
    "createReplaceCSV(truncated_words_df,\"datasets/translated_words.csv\")\n"
   ]
  },
  {
   "cell_type": "code",
   "execution_count": null,
   "metadata": {},
   "outputs": [],
   "source": [
    "''' ALTERNATIVE METHOD:\n",
    "# Set language_code\n",
    "arrayOfTranslations = translate_words(truncated_words_df['Word'],lang_code,translator)\n",
    "# Create a DataFrame from the translation array\n",
    "translation_df = pd.DataFrame(arrayOfTranslations, columns=['Translation', 'Pronunciation'])\n",
    "# Concatenate the existing DataFrame and the translation DataFrame column-wise\n",
    "result_df = pd.concat([truncated_words_df, translation_df],axis =1)\n",
    "result_df['language_code'] = lang_code\n",
    "result_df['language'] = result_df['language_code'].apply(lambda x: language_dict.get(x, 'Unknown'))\n",
    "\n",
    "\n",
    "createReplaceCSV(result_df,\"datasets/translated_words.csv\")\n",
    "'''"
   ]
  },
  {
   "cell_type": "code",
   "execution_count": null,
   "metadata": {},
   "outputs": [],
   "source": []
  }
 ],
 "metadata": {
  "kernelspec": {
   "display_name": "base",
   "language": "python",
   "name": "python3"
  },
  "language_info": {
   "codemirror_mode": {
    "name": "ipython",
    "version": 3
   },
   "file_extension": ".py",
   "mimetype": "text/x-python",
   "name": "python",
   "nbconvert_exporter": "python",
   "pygments_lexer": "ipython3",
   "version": "3.9.7"
  }
 },
 "nbformat": 4,
 "nbformat_minor": 2
}
